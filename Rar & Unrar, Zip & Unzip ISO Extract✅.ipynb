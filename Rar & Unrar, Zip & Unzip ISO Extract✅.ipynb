{
  "nbformat": 4,
  "nbformat_minor": 0,
  "metadata": {
    "colab": {
      "name": "Rar & Unrar, Zip &Unzip, ISO Extract✅",
      "provenance": [],
      "authorship_tag": "ABX9TyPjJf39Uu/zn05W8QoCii+D",
      "include_colab_link": true
    },
    "kernelspec": {
      "name": "python3",
      "display_name": "Python 3"
    },
    "language_info": {
      "name": "python"
    }
  },
  "cells": [
    {
      "cell_type": "markdown",
      "metadata": {
        "id": "view-in-github",
        "colab_type": "text"
      },
      "source": [
        "<a href=\"https://colab.research.google.com/github/james00000007/Google-Colaboratory/blob/main/Rar%20%26%20Unrar%2C%20Zip%20%26%20Unzip%20ISO%20Extract%E2%9C%85.ipynb\" target=\"_parent\"><img src=\"https://colab.research.google.com/assets/colab-badge.svg\" alt=\"Open In Colab\"/></a>"
      ]
    },
    {
      "cell_type": "code",
      "execution_count": null,
      "metadata": {
        "cellView": "form",
        "id": "Ly0USEHw5uUN"
      },
      "outputs": [],
      "source": [
        "#@markdown  ← Current Python Version\n",
        "!python -V"
      ]
    },
    {
      "cell_type": "code",
      "source": [
        "#@markdown <h3> ⬅️ Prevent Google Colab from disconnecting | AUTO RECONNECT\n",
        "import IPython\n",
        "from google.colab import output\n",
        "\n",
        "display(IPython.display.Javascript('''\n",
        " function ClickConnect(){\n",
        "   btn = document.querySelector(\"colab-connect-button\")\n",
        "   if (btn != null){\n",
        "     console.log(\"Click colab-connect-button\"); \n",
        "     btn.click() \n",
        "     }\n",
        "   \n",
        "   btn = document.getElementById('ok')\n",
        "   if (btn != null){\n",
        "     console.log(\"Click reconnect\"); \n",
        "     btn.click() \n",
        "     }\n",
        "  }\n",
        "  \n",
        "setInterval(ClickConnect,60000)\n",
        "'''))\n",
        "\n",
        "print(\"Done.\")"
      ],
      "metadata": {
        "cellView": "form",
        "id": "261ddU3I55fW"
      },
      "execution_count": null,
      "outputs": []
    },
    {
      "cell_type": "code",
      "source": [
        "#@markdown <h3>⬅ Mount Google Drive</h3>\n",
        "import os, uuid; import ipywidgets as widgets\n",
        "from IPython.display import clear_output\n",
        "from google.colab import drive, output\n",
        " \n",
        "class MakeButton(object):\n",
        "  def __init__(self, title, callback, style):\n",
        "    self._title = title\n",
        "    self._callback = callback\n",
        "    self._style = style\n",
        "  def _repr_html_(self):\n",
        "    callback_id = 'button-' + str(uuid.uuid4())\n",
        "    output.register_callback(callback_id, self._callback)\n",
        "    if self._style != \"\":\n",
        "      style_html = \"p-Widget jupyter-widgets jupyter-button widget-button mod-\" + self._style\n",
        "    else:\n",
        "      style_html = \"p-Widget jupyter-widgets jupyter-button widget-button\"\n",
        "    template = \"\"\"<button class=\"{style_html}\" id=\"{callback_id}\">{title}</button>\n",
        "        <script>\n",
        "          document.querySelector(\"#{callback_id}\").onclick = (e) => {{\n",
        "            google.colab.kernel.invokeFunction('{callback_id}', [], {{}})\n",
        "            e.preventDefault();\n",
        "          }};\n",
        "        </script>\"\"\"\n",
        "    html = template.format(title=self._title, callback_id=callback_id, style_html=style_html)\n",
        "    return html\n",
        "  \n",
        "def MakeLabel(description, button_style):\n",
        "  return widgets.Button(description=description, disabled=True, button_style=button_style)\n",
        "    \n",
        "def DemountForm():\n",
        "  clear_output(wait=True)\n",
        "  display(MakeLabel(\"Demount Confirm?\", \"\"), MakeButton(\"Confirm\", Demount, \"danger\"), MakeButton(\"Cancel\", ShowGD, \"warning\"))\n",
        "    \n",
        "def Demount():\n",
        "  clear_output(wait=True)\n",
        "  get_ipython().system_raw(\"pkill -9 -e -f drive\")\n",
        "  !rm -rf /root/.config/Google/DriveFS/\n",
        "  !echo \"If you want to mount Google Drive run this cell again.\"\n",
        "  \n",
        "def ShowGD():\n",
        "  try:\n",
        "    RefreshPath()\n",
        "  except:\n",
        "    clear_output(wait=True)\n",
        "  display(MakeLabel(\"Control Panel\", \"\"), MakeButton(\"Demount\", DemountForm, \"danger\"))\n",
        " \n",
        "while not os.path.exists(\"/content/drive\"):\n",
        "  try:\n",
        "    drive.mount(\"/content/drive\")\n",
        "    clear_output(wait=True)\n",
        "  except:\n",
        "    clear_output(wait=True)\n",
        "    \n",
        "ShowGD()"
      ],
      "metadata": {
        "cellView": "form",
        "id": "QuqDvB9_m-xv"
      },
      "execution_count": null,
      "outputs": []
    },
    {
      "cell_type": "code",
      "source": [
        "#@markdown <h3>⬅ To Mount Another Gdrive!</h3>\n",
        "!apt-get install -y -qq software-properties-common python-software-properties module-init-tools\n",
        "!add-apt-repository -y ppa:alessandro-strada/ppa 2>&1 > /dev/null\n",
        "!apt-get update -qq 2>&1 > /dev/null\n",
        "!apt-get -y install -qq google-drive-ocamlfuse fuse\n",
        "from google.colab import auth\n",
        "auth.authenticate_user()\n",
        "from oauth2client.client import GoogleCredentials\n",
        "creds = GoogleCredentials.get_application_default()\n",
        "import getpass\n",
        "!google-drive-ocamlfuse -headless -id={creds.client_id} -secret={creds.client_secret} < /dev/null 2>&1 | grep URL\n",
        "vcode = getpass.getpass()\n",
        "!echo {vcode} | google-drive-ocamlfuse -headless -id={creds.client_id} -secret={creds.client_secret}\n",
        "!sudo mkdir /content/drive1\n",
        "!google-drive-ocamlfuse /content/drive1"
      ],
      "metadata": {
        "cellView": "form",
        "id": "miQy5T5TnEP5"
      },
      "execution_count": null,
      "outputs": []
    },
    {
      "cell_type": "markdown",
      "source": [
        "**Run the below Cells to Unzip your files**"
      ],
      "metadata": {
        "id": "JQihmAu06DOb"
      }
    },
    {
      "cell_type": "code",
      "source": [
        "!unzip \"/content/drive/Shareddrives/Texas Woman's University Denton/[digitaldesire.com] 2020/[digitaldesire.com] - 2020.01.03 - Sabina Rouge (x135).zip\" -d \"/content/drive/MyDrive/clpccd.edu/Digital Desire/[digitaldesire.com] 2020/[digitaldesire.com] - 2020.01.03 - Sabina Rouge (x135)\"\n",
        "!unzip \"/content/drive/Shareddrives/Texas Woman's University Denton/[digitaldesire.com] 2020/[digitaldesire.com] - 2020.01.05 - Melody Sands (x199).zip\" -d \"/content/drive/MyDrive/clpccd.edu/Digital Desire/[digitaldesire.com] 2020/[digitaldesire.com] - 2020.01.05 - Melody Sands (x199)\"\n",
        "!unzip \"/content/drive/Shareddrives/Texas Woman's University Denton/[digitaldesire.com] 2020/[digitaldesire.com] - 2020.01.06 - Chantelle Fontain (x60).zip\" -d \"/content/drive/MyDrive/clpccd.edu/Digital Desire/[digitaldesire.com] 2020/[digitaldesire.com] - 2020.01.06 - Chantelle Fontain (x60)\""
      ],
      "metadata": {
        "id": "S8MUyBis6IcE"
      },
      "execution_count": null,
      "outputs": []
    },
    {
      "cell_type": "markdown",
      "source": [
        "**Run the below Cells to UnRAR your files**"
      ],
      "metadata": {
        "id": "B23fyXZP6ULn"
      }
    },
    {
      "cell_type": "code",
      "source": [
        "!unrar x \"/content/drive/My Drive/Desktop.rar\" \"/content/drive/My Drive/\""
      ],
      "metadata": {
        "id": "e2J7O8Mg6WPo"
      },
      "execution_count": null,
      "outputs": []
    },
    {
      "cell_type": "markdown",
      "source": [
        "**Run the below Cells to Un ISO your files**"
      ],
      "metadata": {
        "id": "InRihFYe6ahG"
      }
    },
    {
      "cell_type": "code",
      "source": [
        "cd /content/drive/Shareddrives/KENDRIYA VIDYALAYA, KHURDA ROAD/Master.Collection.2022"
      ],
      "metadata": {
        "id": "sj1c34Lf6g0Z"
      },
      "execution_count": null,
      "outputs": []
    },
    {
      "cell_type": "code",
      "source": [
        "!7z x Adobe.Master.Collection.2022.v2.RU-EN.iso"
      ],
      "metadata": {
        "id": "Wgu99WtW6kWf"
      },
      "execution_count": null,
      "outputs": []
    },
    {
      "cell_type": "markdown",
      "source": [
        "**Run the below Cells to Extract Files** ."
      ],
      "metadata": {
        "id": "1HKH-Zz56rv7"
      }
    },
    {
      "cell_type": "code",
      "source": [
        "!7z x \"/content/drive/MyDrive/clpccd.edu/UraLesbian/Photos/UraLesbian - 2014-08-01 - Yui Kyouno & Miyuki Fukatsu 京野結衣 & 深津美幸 - Posing (86) 3840×5760.7z\" -O\"/content/drive/MyDrive/clpccd.edu/UraLesbian/Untitled Folder/\""
      ],
      "metadata": {
        "id": "9y66WUhl6yjP"
      },
      "execution_count": null,
      "outputs": []
    },
    {
      "cell_type": "markdown",
      "source": [
        "**Run the below Cells to compress your files into .Rar**"
      ],
      "metadata": {
        "id": "iQSbhyKF63Ol"
      }
    },
    {
      "cell_type": "code",
      "source": [
        "# <= Click this cell to rar the folder\n",
        "!apt-get install rar"
      ],
      "metadata": {
        "id": "72a0u4AA64Ul"
      },
      "execution_count": null,
      "outputs": []
    },
    {
      "cell_type": "code",
      "source": [
        "!rar a \"Folder Link\" "
      ],
      "metadata": {
        "id": "nvIPp5r269WE"
      },
      "execution_count": null,
      "outputs": []
    },
    {
      "cell_type": "markdown",
      "source": [
        "**Run the below Cells to compress your files into .Zip**"
      ],
      "metadata": {
        "id": "qYNWg0_z6-RV"
      }
    },
    {
      "cell_type": "code",
      "source": [
        "!zip -r \"/content/drive/My Drive/Getting started.zip\" \"/content/drive/My Drive/Getting started.pdf\""
      ],
      "metadata": {
        "id": "zm81va7B7DXa"
      },
      "execution_count": null,
      "outputs": []
    },
    {
      "cell_type": "markdown",
      "source": [
        "###**Special Add-ons:** ⬅ works with almost all archive formats (e.g., “zip”, “tar”, “gztar”, “bztar”, “xztar”)"
      ],
      "metadata": {
        "id": "EfqoagidRwkq"
      }
    },
    {
      "cell_type": "code",
      "source": [
        "import shutil\n",
        "shutil.unpack_archive(\"filename\", \"path_to_extract\")"
      ],
      "metadata": {
        "id": "pXQyVoeITBTX"
      },
      "execution_count": null,
      "outputs": []
    }
  ]
}